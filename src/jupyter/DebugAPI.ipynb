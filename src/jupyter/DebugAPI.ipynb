{
 "cells": [
  {
   "cell_type": "markdown",
   "id": "7b01fda8-dab8-4790-b200-b4bdc544422e",
   "metadata": {},
   "source": [
    "This Source Code Form is subject to the terms of the Mozilla Public License, v. 2.0.\n",
    "\n",
    "If a copy of the MPL was not distributed with this file, You can obtain one at https://mozilla.org/MPL/2.0/."
   ]
  },
  {
   "cell_type": "markdown",
   "id": "7d1bf962-019c-40a8-9996-9cf366fd7c50",
   "metadata": {},
   "source": [
    "# Debug the API\n",
    "\n",
    "This notebook provides an entry point for debugging the API without having to worry about manually authenticating.\n",
    "\n",
    "First we import the required libraries and check the connection works. We also obtain tokens."
   ]
  },
  {
   "cell_type": "code",
   "execution_count": null,
   "id": "92716416-e32a-4944-9af2-23b9ac53d576",
   "metadata": {
    "tags": []
   },
   "outputs": [],
   "source": [
    "import requests\n",
    "import json\n",
    "import sys\n",
    "import importlib\n",
    "import os\n",
    "import gzip\n",
    "from datetime import datetime\n",
    "from dateutil import parser\n",
    "\n",
    "\n",
    "AUDIENCE = os.getenv('AUTH0_AUDIENCE')\n",
    "BASE_URL = os.getenv('INGESTION_BASE_URL')\n",
    "AUTH0_DOMAIN = os.getenv('INGESTION_AUTH0_DOMAIN')\n",
    "AUTH0_CLIENT_ID_UPDATER = os.getenv('INGESTION_AUTH0_CLIENT_ID_UPDATER')\n",
    "AUTH0_CLIENT_SECRET_UPDATER = os.getenv('INGESTION_AUTH0_CLIENT_SECRET_UPDATER')\n",
    "AUTH0_CLIENT_ID_ADMIN = os.getenv('INGESTION_AUTH0_CLIENT_ID_ADMIN')\n",
    "AUTH0_CLIENT_SECRET_ADMIN = os.getenv('INGESTION_AUTH0_CLIENT_SECRET_ADMIN')\n",
    "\n",
    "\n",
    "def log(response):\n",
    "    to_print = f\"{response.status_code}: \" if response.status_code != 200 else \"\"\n",
    "    if hasattr(response, \"content\") and response.content is not None and response.content != b\"\":\n",
    "        to_print += json.dumps(json.loads(response.content), indent=4)\n",
    "    else:\n",
    "        to_print += \"<no content>\"\n",
    "    print(to_print)\n",
    "\n",
    "\n",
    "response = requests.get(f\"{BASE_URL}/heartbeat\")\n",
    "\n",
    "print(f\"Welcome to {os.getenv('APP_NAME')}!\")\n",
    "log(response)\n",
    "\n",
    "response = requests.post(\n",
    "    url=f\"https://{AUTH0_DOMAIN}/oauth/token\",\n",
    "    headers={\"Content-Type\": \"application/json\"},\n",
    "    data=f'{{\"client_id\":\"{AUTH0_CLIENT_ID_ADMIN}\",\"client_secret\":\"{AUTH0_CLIENT_SECRET_ADMIN}\",\"audience\":\"{AUDIENCE}\",\"grant_type\":\"client_credentials\"}}',\n",
    ")\n",
    "admin_token = json.loads(response.content)[\"access_token\"]\n",
    "print(response)\n",
    "\n",
    "response = requests.post(\n",
    "    url=f\"https://{AUTH0_DOMAIN}/oauth/token\",\n",
    "    headers={\"Content-Type\": \"application/json\"},\n",
    "    data=f'{{\"client_id\":\"{AUTH0_CLIENT_ID_UPDATER}\",\"client_secret\":\"{AUTH0_CLIENT_SECRET_UPDATER}\",\"audience\":\"{AUDIENCE}\",\"grant_type\":\"client_credentials\"}}',\n",
    ")\n",
    "updater_token = json.loads(response.content)[\"access_token\"]\n",
    "print(response)"
   ]
  },
  {
   "cell_type": "markdown",
   "id": "d2977b5e-e3fe-4947-9f33-918e130f57eb",
   "metadata": {},
   "source": [
    "## GET"
   ]
  },
  {
   "cell_type": "code",
   "execution_count": null,
   "id": "19a726e7-34fc-4625-890c-4ab07e76c638",
   "metadata": {
    "tags": []
   },
   "outputs": [],
   "source": [
    "response = requests.get(\n",
    "    url=f\"{BASE_URL}/categories/residents\",\n",
    "    headers={\"Authorization\": f\"Bearer {admin_token}\"},\n",
    ")\n",
    "log(response)"
   ]
  },
  {
   "cell_type": "markdown",
   "id": "2b63daa0-95b9-4b41-a787-3f3401392f14",
   "metadata": {},
   "source": [
    "## POST"
   ]
  },
  {
   "cell_type": "code",
   "execution_count": null,
   "id": "5de63f9f-22e7-430a-9865-b0eb69dd3a23",
   "metadata": {
    "tags": []
   },
   "outputs": [],
   "source": [
    "payload = {\n",
    "    \"category_id\": \"residents\",\n",
    "    \"indicator_id\": \"residents.residents\",\n",
    "    \"srid\": 3,\n",
    "    \"trid\": 2,\n",
    "    \"start_date\": \"2020-02\",\n",
    "    \"duration\": 5,\n",
    "}\n",
    "response = requests.post(\n",
    "    url=f\"{BASE_URL}/query\",\n",
    "    headers={\n",
    "        \"Content-Type\": \"application/json\",\n",
    "        \"Content-Encoding\": \"gzip\",\n",
    "        \"Authorization\": f\"Bearer {admin_token}\",\n",
    "    },\n",
    "    data=gzip.compress(json.dumps(payload, default=str).encode(\"utf-8\")),\n",
    ")\n",
    "log(response)"
   ]
  },
  {
   "cell_type": "markdown",
   "id": "3e00c638-20a2-43a8-bf06-a26f1042e24b",
   "metadata": {},
   "source": [
    "## PATCH"
   ]
  },
  {
   "cell_type": "code",
   "execution_count": null,
   "id": "6847c0ea-718b-43cf-93f7-434e4ea714f8",
   "metadata": {
    "tags": []
   },
   "outputs": [],
   "source": [
    "payload = {\n",
    "    \"srid\": 2,\n",
    "    \"label\": \"Commune\",\n",
    "    \"label_fr\": \"Commune\",\n",
    "    \"index\": 2,\n",
    "    \"description\": \"A commune is a second-level administrative division in Haiti.\",\n",
    "    \"description_fr\": \"La commune est une division administrative de deuxième niveau en Haïti.\",\n",
    "    \"boundaries\": {},\n",
    "}\n",
    "response = requests.patch(\n",
    "    url=f\"{BASE_URL}/spatial_resolutions/2\",\n",
    "    headers={\n",
    "        \"Content-Type\": \"application/json\",\n",
    "        \"Content-Encoding\": \"gzip\",\n",
    "        \"Authorization\": f\"Bearer {admin_token}\",\n",
    "    },\n",
    "    data=gzip.compress(json.dumps(payload, default=str).encode(\"utf-8\")),\n",
    ")\n",
    "log(response)"
   ]
  },
  {
   "cell_type": "markdown",
   "id": "9c15b0b8-176a-4c73-a062-8fa0b3e51323",
   "metadata": {},
   "source": [
    "## DELETE"
   ]
  },
  {
   "cell_type": "code",
   "execution_count": null,
   "id": "d6740149-9459-4af9-b60f-86a870e2b33a",
   "metadata": {
    "tags": []
   },
   "outputs": [],
   "source": [
    "response = requests.delete(\n",
    "    url=f\"{BASE_URL}/categories/residents_indicators_people\",\n",
    "    headers={\"Authorization\": f\"Bearer {admin_token}\"},\n",
    ")\n",
    "log(response)"
   ]
  },
  {
   "cell_type": "markdown",
   "id": "179bc97a-1269-43ed-b7b9-7e63c7f9b439",
   "metadata": {},
   "source": [
    "That's it!"
   ]
  }
 ],
 "metadata": {
  "kernelspec": {
   "display_name": "Python 3 (ipykernel)",
   "language": "python",
   "name": "python3"
  },
  "language_info": {
   "codemirror_mode": {
    "name": "ipython",
    "version": 3
   },
   "file_extension": ".py",
   "mimetype": "text/x-python",
   "name": "python",
   "nbconvert_exporter": "python",
   "pygments_lexer": "ipython3",
   "version": "3.10.6"
  },
  "vscode": {
   "interpreter": {
    "hash": "c180f8ebda99849f742c1970511da7e002d61838aeb8176b3be05803a158b625"
   }
  }
 },
 "nbformat": 4,
 "nbformat_minor": 5
}
